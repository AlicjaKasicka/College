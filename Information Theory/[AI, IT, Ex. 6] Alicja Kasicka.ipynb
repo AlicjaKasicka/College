{
 "cells": [
  {
   "cell_type": "markdown",
   "metadata": {},
   "source": [
    "Alicja Kasicka\n",
    "148246"
   ]
  },
  {
   "cell_type": "code",
   "execution_count": 1,
   "metadata": {},
   "outputs": [],
   "source": [
    "from queue import PriorityQueue"
   ]
  },
  {
   "cell_type": "code",
   "execution_count": 2,
   "metadata": {},
   "outputs": [
    {
     "name": "stdout",
     "output_type": "stream",
     "text": [
      "{' ': 1840507, 'a': 777876, 'l': 378211, 'b': 145172, 'e': 1009158, 'r': 586088, 't': 715266, 'o': 627012, 'f': 190077, 'p': 184242, 'u': 229915, 's': 572689, 'i': 657640, '1': 63329, '7': 16523, 'm': 232270, 'y': 134244, '4': 17341, '9': 38410, '0': 50436, '2': 37553, 'c': 297462, 'h': 393431, '5': 17809, '6': 16484, '8': 20745, 'w': 138676, 'g': 175671, 'n': 643628, 'd': 341036, 'k': 65072, 'v': 92206, 'z': 13933, 'x': 17630, 'j': 22956, 'q': 9205, '3': 19038}\n"
     ]
    }
   ],
   "source": [
    "#Opening a file\n",
    "\n",
    "f = open(\"C:\\\\Users\\\\Alicja\\\\Desktop\\\\norm_wiki_sample.txt\", \"r\")\n",
    "text = []\n",
    "frequency_dict = dict()\n",
    "\n",
    "for line in f:\n",
    "    for word in line:\n",
    "        text.append(word)\n",
    "        if word in frequency_dict:\n",
    "            frequency_dict[word] += 1\n",
    "        else:\n",
    "            frequency_dict[word] = 1\n",
    "\n",
    "print(frequency_dict)\n",
    "\n",
    "f.close()"
   ]
  },
  {
   "cell_type": "code",
   "execution_count": 3,
   "metadata": {},
   "outputs": [],
   "source": [
    "#Creating a class Tree that will be useful when creating an object Tree\n",
    "class Tree:\n",
    "    def __init__(self, frequency, letter, left = None, right = None):\n",
    "        self.letter = letter\n",
    "        self.frequency = frequency\n",
    "        self.left = left\n",
    "        self.right = right"
   ]
  },
  {
   "cell_type": "code",
   "execution_count": 4,
   "metadata": {},
   "outputs": [],
   "source": [
    "#putting elements into priority queue\n",
    "q = PriorityQueue()\n",
    "for key in frequency_dict:\n",
    "    q.put((frequency_dict[key], Tree(frequency_dict[key], key)))"
   ]
  },
  {
   "cell_type": "code",
   "execution_count": 5,
   "metadata": {},
   "outputs": [
    {
     "name": "stdout",
     "output_type": "stream",
     "text": [
      "(10788941, <__main__.Tree object at 0x0000021FFF07A580>)\n"
     ]
    }
   ],
   "source": [
    "#Building a tree\n",
    "def priority_tree():\n",
    "    while q.qsize() > 1:\n",
    "        left = q.get()\n",
    "        right = q.get()\n",
    "        parent = Tree(left[0] + right[0], None, left[1], right[1])\n",
    "        q.put((parent.frequency, parent))\n",
    "    tree = q.get()\n",
    "    return tree\n",
    "out = priority_tree()\n",
    "print(out)"
   ]
  },
  {
   "cell_type": "code",
   "execution_count": 6,
   "metadata": {},
   "outputs": [
    {
     "name": "stdout",
     "output_type": "stream",
     "text": [
      "{'e': '000', 'm': '00100', 'y': '001010', 'k': '0010110', '4': '001011100', 'x': '001011101', '5': '001011110', '3': '001011111', 's': '0011', 'w': '010000', 'b': '010001', 'c': '01001', 'r': '0101', 'o': '0110', 'n': '0111', 'i': '1000', 'd': '10010', '2': '10011000', '9': '10011001', 'v': '1001101', 'g': '100111', 't': '1010', 'p': '101100', 'f': '101101', 'l': '10111', 'a': '1100', 'h': '11010', '8': '110110000', 'j': '110110001', '0': '11011001', 'q': '1101101000', 'z': '1101101001', '6': '1101101010', '7': '1101101011', '1': '11011011', 'u': '110111', ' ': '111'}\n"
     ]
    }
   ],
   "source": [
    "#Traversing through every node and creating a code for every character used in the text\n",
    "def dfs(root, code, coding_dict):\n",
    "    mini_root = root[1]\n",
    "    if not mini_root.letter:\n",
    "        code += '0'\n",
    "        dfs((mini_root.frequency, mini_root.left), code, coding_dict)\n",
    "        new_code = code[:-1]\n",
    "        new_code += '1'\n",
    "        dfs((mini_root.frequency, mini_root.right), new_code, coding_dict)\n",
    "        code = new_code[:-1]\n",
    "    else:\n",
    "        coding_dict[mini_root.letter] = code\n",
    "\n",
    "def codes(root):\n",
    "    coding_dict = dict()\n",
    "    dfs((root[1].frequency, root[1]), \"\", coding_dict)\n",
    "    return coding_dict\n",
    "\n",
    "coding_dict = codes(out)\n",
    "print(coding_dict)"
   ]
  },
  {
   "cell_type": "code",
   "execution_count": 7,
   "metadata": {},
   "outputs": [],
   "source": [
    "#Encoding the text\n",
    "def encode(text):\n",
    "    encoded_text = []\n",
    "    for char in text:\n",
    "        encoded_text.append(coding_dict[char])\n",
    "    return ''.join(encoded_text)\n",
    "#print(''.join(encode(text)))"
   ]
  },
  {
   "cell_type": "code",
   "execution_count": 8,
   "metadata": {},
   "outputs": [
    {
     "name": "stdout",
     "output_type": "stream",
     "text": [
      "{'000': 'e', '00100': 'm', '001010': 'y', '0010110': 'k', '001011100': '4', '001011101': 'x', '001011110': '5', '001011111': '3', '0011': 's', '010000': 'w', '010001': 'b', '01001': 'c', '0101': 'r', '0110': 'o', '0111': 'n', '1000': 'i', '10010': 'd', '10011000': '2', '10011001': '9', '1001101': 'v', '100111': 'g', '1010': 't', '101100': 'p', '101101': 'f', '10111': 'l', '1100': 'a', '11010': 'h', '110110000': '8', '110110001': 'j', '11011001': '0', '1101101000': 'q', '1101101001': 'z', '1101101010': '6', '1101101011': '7', '11011011': '1', '110111': 'u', '111': ' '}\n"
     ]
    }
   ],
   "source": [
    "#Creating dictionary with binary codes as keys and characters as values\n",
    "decoding_dict = dict()\n",
    "for key in coding_dict:\n",
    "    decoding_dict[coding_dict[key]] = key\n",
    "\n",
    "print(decoding_dict)"
   ]
  },
  {
   "cell_type": "code",
   "execution_count": 12,
   "metadata": {},
   "outputs": [],
   "source": [
    "#Decoding the text\n",
    "def decode(encoded_text, decoding_dict):\n",
    "    length = 0\n",
    "    new_code = \"\"\n",
    "    decoded_text = []\n",
    "    for bit in encoded_text:\n",
    "        length += 1\n",
    "        if bit in decoding_dict.keys():\n",
    "            decoded_text.append(decoding_dict[bit])\n",
    "        else:\n",
    "            new_code += bit\n",
    "            if new_code in decoding_dict.keys():\n",
    "                decoded_text.append(decoding_dict[new_code])\n",
    "                new_code = \"\"\n",
    "    return decoded_text\n",
    "#print(''.join(decode(encode(text), decoding_dict)))"
   ]
  },
  {
   "cell_type": "code",
   "execution_count": 13,
   "metadata": {},
   "outputs": [
    {
     "name": "stdout",
     "output_type": "stream",
     "text": [
      "86311528\n",
      "46489714\n"
     ]
    }
   ],
   "source": [
    "#In the fixed-size encoding, every character can be stored as an ASCII character using 8-bits, so the number of bits used to store the text is:\n",
    "print(len(text)*8)\n",
    "\n",
    "#Number of bits used to store the compressed text is:\n",
    "print(len(encode(text)))"
   ]
  }
 ],
 "metadata": {
  "interpreter": {
   "hash": "81cd2d3ebaf43900451c4a7dadbaf65cb31b9a337a6a3082182f3c18de74c12a"
  },
  "kernelspec": {
   "display_name": "Python 3.8.5 ('base')",
   "language": "python",
   "name": "python3"
  },
  "language_info": {
   "codemirror_mode": {
    "name": "ipython",
    "version": 3
   },
   "file_extension": ".py",
   "mimetype": "text/x-python",
   "name": "python",
   "nbconvert_exporter": "python",
   "pygments_lexer": "ipython3",
   "version": "3.8.5"
  },
  "orig_nbformat": 4
 },
 "nbformat": 4,
 "nbformat_minor": 2
}
