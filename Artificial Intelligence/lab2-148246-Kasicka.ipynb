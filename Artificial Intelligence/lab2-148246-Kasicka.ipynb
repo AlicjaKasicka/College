{
 "cells": [
  {
   "cell_type": "markdown",
   "metadata": {},
   "source": [
    "# Informed search - the A* algorithm"
   ]
  },
  {
   "cell_type": "markdown",
   "metadata": {},
   "source": [
    "Depth-first search and breadth-first search considered in the previous lesson are completely *blind* algorithms: they're only concerned whether the currently considered state is a goal state or not. They're unable to distinguish whether a state is easy or hard to reach, or whether it is near or far of the goal. This makes them very inefficient search algorithms. To allievate the issue, we introduce informed search algorithms. The information is given to an algorithm in two ways:\n",
    "\n",
    "1. By using an *action cost* function $c(s,a)$, which, given a state $s$ and an action $a$ available in this state, returns its cost as a non-negative number.\n",
    "2. By using a *heuristic* $h(s)$, which, given a state, estimates the lowest cost to reach a goal state from the given state.\n",
    "\n",
    "Given a sequence of actions $a_1, \\ldots, a_n$ and an initial state $s_1$, we can express the *total cost* of reaching the state $s_{n+1}$ by executing the sequence as:\n",
    "$$ c(s_1, a_1, \\ldots, a_{n-1}) = \\sum_{i=1}^n c(s_i, a_i) $$\n",
    "and the *expected cost* of the solution as the sum of the total cost and the estimate cost of reaching the goal from the state $s_{n+1}$\n",
    "$$ f(s_1, a_1, \\ldots, a_n) = c(s_1, a_1, \\ldots, a_n) + h(s_{n+1}) $$\n",
    "\n",
    "The heuristic function is a bit tricky, because we want it to have two properties:\n",
    "* *Admissibility*: It must never *overestimate* the true cost of reaching the goal. \n",
    "* *Consistency*: Let $s$ be a state such that $a$ is an available action in this state and $s'$ is the state reached by executing this action. The heuristic should fulfil triangle inequality, that is, the estimated cost to reach the goal from $s$ should be no greater than the cost of executing the action $a$ + the estimated cost of reaching the goal from the new state.\n",
    "$$ h(s) \\leq c(s, a) + h(s') $$\n",
    "\n",
    "One can prove that admissibility follows from consistency, but consistency is important only if there are multiple paths to reach the same state (i.e., we are searching in a graph, not in a tree). Otherwise, admissability is sufficient."
   ]
  },
  {
   "cell_type": "markdown",
   "metadata": {},
   "source": [
    "Lets extend the class `Problem` from the previous lesson with two new functions `action_cost` and `heuristic`, which correspond to the functions $c(s,a)$ and $h(s)$ described above."
   ]
  },
  {
   "cell_type": "code",
   "execution_count": 2,
   "metadata": {},
   "outputs": [],
   "source": [
    "class Problem:\n",
    "    @property\n",
    "    def initial_state(self):\n",
    "        ...\n",
    "        \n",
    "    def available_actions(self, state):\n",
    "        ...        \n",
    "        \n",
    "    def do_action(self, state, action):\n",
    "        ...\n",
    "        return new_state\n",
    "    \n",
    "    def is_goal(self, state) -> bool:\n",
    "        ...\n",
    "        \n",
    "    def action_cost(self, state, action) -> float:\n",
    "        ...\n",
    "        \n",
    "    def heuristic(self, state) -> float:\n",
    "        ..."
   ]
  },
  {
   "cell_type": "markdown",
   "metadata": {},
   "source": [
    "To make a concrete example, lets revisit the vacuum world. \n",
    "\n",
    "![](aima-images/fig2_2.png)\n",
    "\n",
    "Below, we assume a very simple model:\n",
    "* Any action costs 1. This corresponds to searching for the shortest plan.\n",
    "* The heuristic estimation is the number of fields which are still dirty. \n",
    "\n",
    "\n",
    "Lets consider the properties of the heuristic:\n",
    "* Is is admissible? The heuristic value is equal to the number of 'Suck' actions that are yet to be executed and ignores the spatial aspect (i.e., moving between the rooms), thus never overestimating.\n",
    "* Is it consistent? As a consequence of a single action the heuristic value can decrease by at most 1 (if the action happens to be 'Suck' and the room is dirty). The cost of any action is 1, so rewriting the triangle inequality we arrive at:\n",
    "$$ h(s) \\leq c(s, a) + h(s') = \\begin{cases} 1 + (h(s)-1) & a=\\text{'Suck' and the room was dirty} \\\\ 1 + h(s) & \\text{otherwise} \\end{cases} $$\n",
    "* Is it the best we could have? By no means! We could include the spatial aspect."
   ]
  },
  {
   "cell_type": "code",
   "execution_count": 3,
   "metadata": {},
   "outputs": [],
   "source": [
    "class VacuumProblem(Problem):\n",
    "    @property\n",
    "    def initial_state(self):\n",
    "        return (0, (True, True))\n",
    "    \n",
    "    def available_actions(self, state):\n",
    "        return [\"Left\", \"Suck\", \"Right\"]\n",
    "        \n",
    "    def do_action(self, state, action):\n",
    "        robot, dirty = state\n",
    "        if action == \"Left\":\n",
    "            return (max(robot-1, 0), dirty)\n",
    "        elif action == \"Suck\":\n",
    "            new_dirty = list(dirty)\n",
    "            new_dirty[robot] = False\n",
    "            return (robot, tuple(new_dirty))\n",
    "        elif action == \"Right\":\n",
    "            return (min(robot+1, len(dirty)-1), dirty)        \n",
    "        raise Exception('Invalid action')\n",
    "    \n",
    "    def is_goal(self, state) -> bool:\n",
    "        return not any(state[1])\n",
    "    \n",
    "    def action_cost(self, state, action):\n",
    "        return 1\n",
    "    \n",
    "    def heuristic(self, state):\n",
    "        return sum(state[1])"
   ]
  },
  {
   "cell_type": "markdown",
   "metadata": {},
   "source": [
    "## Task 1: Implement the A* algorithm\n",
    "\n",
    "To implement the A* algorithm you must have a priority queue. Luckily, Python comes with one, so you don't need to implement it by yourself. Then, the algorithm is very simple: \n",
    "1. Start with a queue containing a single item - the initial state\n",
    "2. Repeat until the queue is not empty:\n",
    "  1. Pick an item with the lowest expected cost\n",
    "  2. If this is the goal, return the sequence of actions necessary to reach this state\n",
    "  3. Otherwise, for each available action, create a new entry in the queue corresponding to the state reached after executing the action.\n",
    "  \n",
    "Guard the algorithm against infinite loops: if you already visited a state, you don't need to visit it again (if your heuristic is consistent).\n",
    "\n",
    "In the cell below implement the algorithm in a similar manner as the BFS and DFS in the previous lesson: the sole argument is an object of the class Problem and the function should return a list of actions to achieve a goal state from the initial state.\n",
    "If it is impossible to reach the goal, return `None`.\n",
    "Count the number of states visited during the search and print in out before returning from the function, it will be useful later on to compare different heuristics."
   ]
  },
  {
   "cell_type": "code",
   "execution_count": 111,
   "metadata": {},
   "outputs": [],
   "source": [
    "from queue import PriorityQueue\n",
    "\n",
    "def astar(problem: Problem):\n",
    "    q = PriorityQueue()\n",
    "    initial_state = problem.initial_state\n",
    "    expected_initial_cost = problem.heuristic(initial_state)\n",
    "    necessary_actions = []\n",
    "\n",
    "    q.put((expected_initial_cost, initial_state, necessary_actions))\n",
    "\n",
    "    previous_states = [initial_state]\n",
    "    visited = 1\n",
    "\n",
    "    while q.empty() is False:\n",
    "        visited += 1\n",
    "        element = q.get()\n",
    "        #print(\"Element: \", element)\n",
    "\n",
    "        if problem.is_goal(element[1]):\n",
    "            print(\"Number of visited states: \", visited)\n",
    "            return element[2]\n",
    "\n",
    "        actions_list = problem.available_actions(element[1])\n",
    "\n",
    "        for action in actions_list:\n",
    "            new_state = problem.do_action(element[1], action)\n",
    "\n",
    "            if new_state != element[1] and new_state not in previous_states:\n",
    "                previous_states.append(new_state)\n",
    "                cost = 0\n",
    "                necessary_actions = element[2] + [action]\n",
    "                expected_initial_cost = problem.heuristic(new_state)\n",
    "\n",
    "                for a in necessary_actions:\n",
    "                    cost += problem.action_cost(new_state, a)\n",
    "\n",
    "                full_cost = cost + expected_initial_cost\n",
    "                q.put((full_cost, new_state, necessary_actions))\n",
    "    return None"
   ]
  },
  {
   "cell_type": "markdown",
   "metadata": {},
   "source": [
    "Now lets test your code in the vacuum world!"
   ]
  },
  {
   "cell_type": "code",
   "execution_count": 113,
   "metadata": {},
   "outputs": [
    {
     "name": "stdout",
     "output_type": "stream",
     "text": [
      "Number of visited states:  5\n"
     ]
    },
    {
     "data": {
      "text/plain": [
       "['Suck', 'Right', 'Suck']"
      ]
     },
     "execution_count": 113,
     "metadata": {},
     "output_type": "execute_result"
    }
   ],
   "source": [
    "astar(VacuumProblem())"
   ]
  },
  {
   "cell_type": "markdown",
   "metadata": {},
   "source": [
    "## Task 2: Variants of the vacuum world\n",
    "\n",
    "Now lets consider a different take on the vacuum world in which the heuristic is not admissible and increases as the number of dirty fields decreases."
   ]
  },
  {
   "cell_type": "code",
   "execution_count": 114,
   "metadata": {},
   "outputs": [
    {
     "name": "stdout",
     "output_type": "stream",
     "text": [
      "Number of visited states:  8\n"
     ]
    },
    {
     "data": {
      "text/plain": [
       "['Suck', 'Right', 'Suck']"
      ]
     },
     "execution_count": 114,
     "metadata": {},
     "output_type": "execute_result"
    }
   ],
   "source": [
    "class VacuumProblem1(VacuumProblem):\n",
    "    def action_cost(self, state, action):\n",
    "        return 1\n",
    "    \n",
    "    def heuristic(self, state):\n",
    "        return len(state[1]) - sum(state[1])\n",
    "    \n",
    "astar(VacuumProblem1())"
   ]
  },
  {
   "cell_type": "markdown",
   "metadata": {},
   "source": [
    "And another in which heuristic grossly overestimates the cost."
   ]
  },
  {
   "cell_type": "code",
   "execution_count": 115,
   "metadata": {},
   "outputs": [
    {
     "name": "stdout",
     "output_type": "stream",
     "text": [
      "Number of visited states:  5\n"
     ]
    },
    {
     "data": {
      "text/plain": [
       "['Suck', 'Right', 'Suck']"
      ]
     },
     "execution_count": 115,
     "metadata": {},
     "output_type": "execute_result"
    }
   ],
   "source": [
    "class VacuumProblem2(VacuumProblem):\n",
    "    def action_cost(self, state, action):\n",
    "        return 1\n",
    "    \n",
    "    def heuristic(self, state):\n",
    "        return 10 * sum(state[1])\n",
    "    \n",
    "astar(VacuumProblem2())"
   ]
  },
  {
   "cell_type": "markdown",
   "metadata": {},
   "source": [
    "**Which of the three heuristic functions (`VacuumProblem`, `VacuumProblem1`, `VacuumProblem2`) is the best? Is it the expected answer given the properties of the heuristics? If not, explain why an unorthodox approach works better.**"
   ]
  },
  {
   "cell_type": "markdown",
   "metadata": {},
   "source": [
    "The only non-admissible heuristic out of those three is the third one and, surprisingly, it finds a very good solution to the VacuumProblem. That is because it favours those solutions in which the states are the closest to the goal ones and the number of actions does not matter that much (because of its' small cost in comparison to the cost of a wrong state). This problem is not complex, because only two 'elements' can be out of place and the total cost of actions will, most probably, not exceed the total cost of those elements."
   ]
  },
  {
   "cell_type": "markdown",
   "metadata": {},
   "source": [
    "## Task 3: 8-puzzle problem\n",
    "\n",
    "Recall the 8-puzzle problem from the previous lesson. Reuse your code and implement an extended version assuming that each action costs 1. Propose 3 (at least) admissible heuristics. This time don't change the initial state, your solution should be capable enough to solve this.\n",
    "\n",
    "![](aima-images/fig3_4.png)"
   ]
  },
  {
   "cell_type": "code",
   "execution_count": 116,
   "metadata": {},
   "outputs": [],
   "source": [
    "class PuzzleProblem(Problem):\n",
    "    @property\n",
    "    def initial_state(self):\n",
    "        ...\n",
    "        \n",
    "    def available_actions(self, state):\n",
    "        ...        \n",
    "        \n",
    "    def do_action(self, state, action):\n",
    "        ...\n",
    "        return new_state\n",
    "    \n",
    "    def is_goal(self, state) -> bool:\n",
    "        ...\n",
    "        \n",
    "    def action_cost(self, state, action) -> float:\n",
    "        ...\n",
    "        \n",
    "    def heuristic(self, state) -> float:\n",
    "        ..."
   ]
  },
  {
   "cell_type": "code",
   "execution_count": 117,
   "metadata": {},
   "outputs": [],
   "source": [
    "class PuzzleProblem(Problem):\n",
    "    @property\n",
    "    def initial_state(self):\n",
    "        #state = [1, 0, 2, 3, 4, 5, 6, 7, 8]\n",
    "        state = [7, 2, 4, 5, 0, 6, 8, 3, 1]\n",
    "        return state\n",
    "        \n",
    "    def available_actions(self, state):\n",
    "        if state[0] == 0:\n",
    "            actions = ['Right', 'Down']\n",
    "        elif state[1] == 0:\n",
    "            actions = ['Left', 'Right', 'Down']\n",
    "        elif state[2] == 0:\n",
    "            actions = ['Left', 'Down']\n",
    "        elif state[3] == 0:\n",
    "            actions = ['Right', 'Up', 'Down']\n",
    "        elif state[4] == 0:\n",
    "            actions = ['Left', 'Right', 'Up', 'Down']\n",
    "        elif state[5] == 0:\n",
    "            actions = ['Left', 'Up', 'Down']\n",
    "        elif state[6] == 0:\n",
    "            actions = ['Right', 'Up']\n",
    "        elif state[7] == 0:\n",
    "            actions = ['Left', 'Right', 'Up']\n",
    "        elif state[8] == 0:\n",
    "            actions = ['Left', 'Up']\n",
    "        return actions    \n",
    "        \n",
    "    def do_action(self, state, action):\n",
    "        new_state = [x for x in state]\n",
    "        zero_index = state.index(0)\n",
    "\n",
    "        if action == \"Left\":\n",
    "            element = new_state[zero_index - 1]\n",
    "            new_state[zero_index], new_state[zero_index - 1] = new_state[zero_index-1], new_state[zero_index]\n",
    "        \n",
    "        elif action == \"Right\":\n",
    "            element = new_state[zero_index + 1]\n",
    "            new_state[zero_index], new_state[zero_index + 1] = new_state[zero_index+1], new_state[zero_index]\n",
    "            \n",
    "        elif action == \"Up\":\n",
    "            element = new_state[zero_index - 3]\n",
    "            new_state[zero_index], new_state[zero_index - 3] = new_state[zero_index-3], new_state[zero_index]\n",
    "        \n",
    "        elif action == \"Down\":\n",
    "            element = new_state[zero_index + 3]\n",
    "            new_state[zero_index], new_state[zero_index + 3] = new_state[zero_index+3], new_state[zero_index]\n",
    "        \n",
    "        else:\n",
    "            raise Exception(\"Invalid action.\")\n",
    "            \n",
    "        return new_state\n",
    "    \n",
    "    def is_goal(self, state) -> bool:\n",
    "        return state == [0, 1, 2, 3, 4, 5, 6, 7, 8]\n",
    "        \n",
    "    def action_cost(self, state, action) -> float:\n",
    "        return 1\n",
    "        \n",
    "    def heuristic(self, state) -> float:\n",
    "        c = 0\n",
    "        goal = [0, 1, 2, 3, 4, 5, 6, 7, 8]\n",
    "        for x in range(len(state)):\n",
    "            if state[x] != goal[x]:\n",
    "                c += 1\n",
    "        return c"
   ]
  },
  {
   "cell_type": "code",
   "execution_count": 122,
   "metadata": {},
   "outputs": [
    {
     "name": "stdout",
     "output_type": "stream",
     "text": [
      "Number of visited states:  32601\n"
     ]
    },
    {
     "data": {
      "text/plain": [
       "['Left',\n",
       " 'Up',\n",
       " 'Right',\n",
       " 'Down',\n",
       " 'Right',\n",
       " 'Down',\n",
       " 'Left',\n",
       " 'Left',\n",
       " 'Up',\n",
       " 'Right',\n",
       " 'Right',\n",
       " 'Down',\n",
       " 'Left',\n",
       " 'Left',\n",
       " 'Up',\n",
       " 'Right',\n",
       " 'Right',\n",
       " 'Up',\n",
       " 'Left',\n",
       " 'Left',\n",
       " 'Down',\n",
       " 'Right',\n",
       " 'Right',\n",
       " 'Up',\n",
       " 'Left',\n",
       " 'Left']"
      ]
     },
     "execution_count": 122,
     "metadata": {},
     "output_type": "execute_result"
    }
   ],
   "source": [
    "astar(PuzzleProblem())"
   ]
  },
  {
   "cell_type": "markdown",
   "metadata": {},
   "source": [
    "**Prove that this heuristic is admissible.**"
   ]
  },
  {
   "cell_type": "markdown",
   "metadata": {},
   "source": [
    "This heuristic is admissible, because every tile that is out of position must be moved at least once for the puzzle to reach its goal state. That is why this heuristic guarantees that the cost will not be smaller than the actual one. It can only be greater."
   ]
  },
  {
   "cell_type": "code",
   "execution_count": 119,
   "metadata": {},
   "outputs": [],
   "source": [
    "class PuzzleProblem1(PuzzleProblem):\n",
    "    def heuristic(self, state) -> float:\n",
    "        goal = [0, 1, 2, 3, 4, 5, 6, 7, 8]\n",
    "        numbers = []     \n",
    "        for e in state:\n",
    "            one = state.index(e)\n",
    "            two = goal.index(e)\n",
    "            #print(\"E: \", e, \"index in beggining state: \", one, \"index in goal_state: \", two)\n",
    "            first = max(one, two)\n",
    "            second = min(one, two)\n",
    "            numbers.append(first - second)\n",
    "        manhat_dist = sum(numbers)\n",
    "        return manhat_dist\n"
   ]
  },
  {
   "cell_type": "markdown",
   "metadata": {},
   "source": [
    "**Prove that this heuristic is admissible.**"
   ]
  },
  {
   "cell_type": "markdown",
   "metadata": {},
   "source": [
    "This heuristic is admissible, because the manhat_dist is the sum of distances between the actual position of the tile and its goal position. In other words, it sums the minimum number of moves it is required for each tile to reach its goal. That is the reason why this number will never be smaller than the actual cost of the relocation (it is not always possible for all tiles to move directly toward their goal positions)."
   ]
  },
  {
   "cell_type": "code",
   "execution_count": 120,
   "metadata": {},
   "outputs": [],
   "source": [
    "import math \n",
    "class PuzzleProblem2(PuzzleProblem):\n",
    "    def heuristic(self, state) -> float:\n",
    "        goal = [0, 1, 2, 3, 4, 5, 6, 7, 8]\n",
    "        numbers = []\n",
    "        for e in state:\n",
    "            one = state.index(e)\n",
    "            two = goal.index(e)\n",
    "            first = max(one, two)\n",
    "            second = min(one, two)\n",
    "            dist = math.sqrt((first - second)^2)\n",
    "            numbers.append(dist)\n",
    "            final = sum(numbers)\n",
    "        return final"
   ]
  },
  {
   "cell_type": "markdown",
   "metadata": {},
   "source": [
    "**Prove that this heuristic is admissible.**"
   ]
  },
  {
   "cell_type": "markdown",
   "metadata": {},
   "source": [
    "This heuristic is admissible, because the final is counted like the eucledian distance which is never greater than the number of the steps required for the puzzle to reach the goal state. That is the case because the tile moves by one step (and that is smaller since the square root of the number raised to the second power is smaller or equals this number)."
   ]
  },
  {
   "cell_type": "markdown",
   "metadata": {},
   "source": [
    "Run your heuristics on the given problem."
   ]
  },
  {
   "cell_type": "code",
   "execution_count": 121,
   "metadata": {},
   "outputs": [
    {
     "name": "stdout",
     "output_type": "stream",
     "text": [
      "Number of visited states:  32601\n",
      "Number of visited states:  6805\n",
      "Number of visited states:  122607\n",
      "Is plan0==plan1? False\n",
      "Is plan0==plan2? False\n",
      "Is plan1==plan2? False\n"
     ]
    }
   ],
   "source": [
    "plan0 = astar(PuzzleProblem())\n",
    "plan1 = astar(PuzzleProblem1())\n",
    "plan2 = astar(PuzzleProblem2())\n",
    "\n",
    "print(\"Is plan0==plan1?\", plan0 == plan1)\n",
    "print(\"Is plan0==plan2?\", plan0 == plan2)\n",
    "print(\"Is plan1==plan2?\", plan1 == plan2)"
   ]
  },
  {
   "cell_type": "markdown",
   "metadata": {},
   "source": [
    "**Which of the heuristics is the best for this task? Why is that?**"
   ]
  },
  {
   "cell_type": "markdown",
   "metadata": {},
   "source": [
    "Out of the heuristics I have written, the best one turned out to be the one that based \"the cost\" on a manhattan distance of each tile (the distance between the tile and it goal position). It makes sense, because it gives an approximate number of steps required to solve the puzzle, so the algorithm will choose the next states to take into account more accurately."
   ]
  },
  {
   "cell_type": "markdown",
   "metadata": {},
   "source": [
    "------------\n",
    "The pictures and the description of 8-puzzle are from \"Artificial Intelligence: A Modern Approach\" 3rd ed."
   ]
  }
 ],
 "metadata": {
  "kernelspec": {
   "display_name": "Python 3",
   "language": "python",
   "name": "python3"
  },
  "language_info": {
   "codemirror_mode": {
    "name": "ipython",
    "version": 3
   },
   "file_extension": ".py",
   "mimetype": "text/x-python",
   "name": "python",
   "nbconvert_exporter": "python",
   "pygments_lexer": "ipython3",
   "version": "3.9.0"
  }
 },
 "nbformat": 4,
 "nbformat_minor": 4
}
